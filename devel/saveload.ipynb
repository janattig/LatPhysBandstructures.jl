{
 "cells": [
  {
   "cell_type": "code",
   "execution_count": 47,
   "metadata": {},
   "outputs": [
    {
     "name": "stderr",
     "output_type": "stream",
     "text": [
      "┌ Info: Recompiling stale cache file /home/jattig/.julia/compiled/v1.0/LatPhysBandstructuresPlottingPyPlot/IEXX0.ji for LatPhysBandstructuresPlottingPyPlot [66177000-74be-527b-8584-e3f8efd22c83]\n",
      "└ @ Base loading.jl:1184\n"
     ]
    }
   ],
   "source": [
    "using LatPhysBandstructures\n",
    "using LatticePhysics\n",
    "using HDF5\n",
    "using LatPhysBandstructuresPlottingPyPlot"
   ]
  },
  {
   "cell_type": "markdown",
   "metadata": {},
   "source": [
    "# Bond Hamiltonians"
   ]
  },
  {
   "cell_type": "code",
   "execution_count": 2,
   "metadata": {},
   "outputs": [
    {
     "data": {
      "text/plain": [
       "getBondHamiltonianType (generic function with 1 method)"
      ]
     },
     "execution_count": 2,
     "metadata": {},
     "output_type": "execute_result"
    }
   ],
   "source": [
    "function saveBondHamiltonian(\n",
    "        hb :: HB,\n",
    "        fn :: AbstractString,\n",
    "        group :: AbstractString = \"bond_hamiltonian\"\n",
    "        ;\n",
    "        append :: Bool = false\n",
    "    ) where {L,N,HB<:AbstractBondHamiltonian{L,N}}\n",
    "    \n",
    "    # print an error because implementation for concrete type is missing\n",
    "    error(\"not implemented interface function 'saveBondHamiltonian' for bond Hamiltonian type \" * string(typeof(hb)))\n",
    "end\n",
    "\n",
    "\n",
    "# convinience function for standard type\n",
    "function loadBondHamiltonian(\n",
    "        fn :: AbstractString,\n",
    "        group :: AbstractString = \"bond_hamiltonian\"\n",
    "    )\n",
    "    \n",
    "    # find out the type\n",
    "    T = getBondHamiltonianType(Val(Symbol(h5readattr(fn, group)[\"type\"])))\n",
    "    \n",
    "    # return the loaded bond hamiltonian\n",
    "    return loadBondHamiltonian(T, fn, group)\n",
    "end\n",
    "\n",
    "function getBondHamiltonianType(\n",
    "        ::Val{HB}\n",
    "    ) where {HB}\n",
    "    \n",
    "    error(\"Type $(HB) could not be identified, i.e. getBondHamiltonianType(Val{:$(HB)}) is missing\")\n",
    "end"
   ]
  },
  {
   "cell_type": "code",
   "execution_count": 3,
   "metadata": {},
   "outputs": [
    {
     "data": {
      "text/plain": [
       "loadBondHamiltonian (generic function with 4 methods)"
      ]
     },
     "execution_count": 3,
     "metadata": {},
     "output_type": "execute_result"
    }
   ],
   "source": [
    "function getBondHamiltonianType(\n",
    "        ::Val{:BondHoppingHamiltonianSimple}\n",
    "    )\n",
    "    \n",
    "    # return the type\n",
    "    return BondHoppingHamiltonianSimple    \n",
    "end\n",
    "\n",
    "function saveBondHamiltonian(\n",
    "        hb :: HB,\n",
    "        fn :: AbstractString,\n",
    "        group :: AbstractString = \"bond_hamiltonian\"\n",
    "        ;\n",
    "        append :: Bool = false\n",
    "    ) where {L,HB<:BondHoppingHamiltonianSimple{L}}\n",
    "    \n",
    "    # determine the mode based on if one wants to append stuff\n",
    "    if append\n",
    "        mode = \"r+\"\n",
    "    else\n",
    "        mode = \"w\"\n",
    "    end\n",
    "\n",
    "    # open the file in mode\n",
    "    h5open(fn, mode) do file\n",
    "        # create the group in which the bonds are saved\n",
    "        group_hb = g_create(file, group)\n",
    "        # save the type identifier\n",
    "        attrs(group_hb)[\"type\"] = \"BondHoppingHamiltonianSimple\"\n",
    "        # save the parameters\n",
    "        attrs(group_hb)[\"N\"] = 1\n",
    "        attrs(group_hb)[\"L\"] = string(L)\n",
    "        # save the Float64 coupling\n",
    "        group_hb[\"coupling\"] = hb.coupling\n",
    "    end\n",
    "\n",
    "    # return nothing\n",
    "    return nothing\n",
    "end\n",
    "\n",
    "function loadBondHamiltonian(\n",
    "        ::Type{HB},\n",
    "        fn :: AbstractString,\n",
    "        group :: AbstractString = \"bond_hamiltonian\"\n",
    "    ) where {LI,HB<:Union{BondHoppingHamiltonianSimple{LI},BondHoppingHamiltonianSimple}}\n",
    "\n",
    "    # read attribute data\n",
    "    attr_data = h5readattr(fn, group)\n",
    "    # determine D based on this\n",
    "    L = Meta.eval(Meta.parse(attr_data[\"L\"]))\n",
    "    N = attr_data[\"N\"]\n",
    "\n",
    "    # load all remaining data\n",
    "    coupling = h5read(fn, group*\"/coupling\")\n",
    "\n",
    "    # return the new bond hamiltonian\n",
    "    return BondHoppingHamiltonianSimple{L}(coupling)\n",
    "end"
   ]
  },
  {
   "cell_type": "code",
   "execution_count": 4,
   "metadata": {},
   "outputs": [
    {
     "data": {
      "text/plain": [
       "BondHoppingHamiltonianSimple{Int64}(3.0)"
      ]
     },
     "execution_count": 4,
     "metadata": {},
     "output_type": "execute_result"
    }
   ],
   "source": [
    "hb = BondHoppingHamiltonianSimple{Int64}(3.0)\n",
    "saveBondHamiltonian(hb, \"test.h5\")\n",
    "hb"
   ]
  },
  {
   "cell_type": "code",
   "execution_count": 5,
   "metadata": {},
   "outputs": [
    {
     "data": {
      "text/plain": [
       "BondHoppingHamiltonianSimple{Int64}(3.0)"
      ]
     },
     "execution_count": 5,
     "metadata": {},
     "output_type": "execute_result"
    }
   ],
   "source": [
    "loadBondHamiltonian(\"test.h5\")"
   ]
  },
  {
   "cell_type": "code",
   "execution_count": 6,
   "metadata": {},
   "outputs": [
    {
     "data": {
      "text/plain": [
       "loadBondHamiltonian (generic function with 6 methods)"
      ]
     },
     "execution_count": 6,
     "metadata": {},
     "output_type": "execute_result"
    }
   ],
   "source": [
    "function getBondHamiltonianType(\n",
    "        ::Val{:BondHoppingHamiltonianSimpleNN}\n",
    "    )\n",
    "    \n",
    "    # return the type\n",
    "    return BondHoppingHamiltonianSimpleNN    \n",
    "end\n",
    "\n",
    "function saveBondHamiltonian(\n",
    "        hb :: HB,\n",
    "        fn :: AbstractString,\n",
    "        group :: AbstractString = \"bond_hamiltonian\"\n",
    "        ;\n",
    "        append :: Bool = false\n",
    "    ) where {L,HB<:BondHoppingHamiltonianSimpleNN{L}}\n",
    "    \n",
    "    # determine the mode based on if one wants to append stuff\n",
    "    if append\n",
    "        mode = \"r+\"\n",
    "    else\n",
    "        mode = \"w\"\n",
    "    end\n",
    "\n",
    "    # open the file in mode\n",
    "    h5open(fn, mode) do file\n",
    "        # create the group in which the bonds are saved\n",
    "        group_hb = g_create(file, group)\n",
    "        # save the type identifier\n",
    "        attrs(group_hb)[\"type\"] = \"BondHoppingHamiltonianSimpleNN\"\n",
    "        # save the parameters\n",
    "        attrs(group_hb)[\"N\"]  = 1\n",
    "        attrs(group_hb)[\"L\"]  = string(L)\n",
    "        # save the Float64 coupling\n",
    "        group_hb[\"coupling\"]  = hb.coupling\n",
    "        if L <: Number\n",
    "            group_hb[\"label\"] = hb.label\n",
    "        else\n",
    "            group_hb[\"label\"] = string(hb.label)\n",
    "        end\n",
    "    end\n",
    "\n",
    "    # return nothing\n",
    "    return nothing\n",
    "end\n",
    "\n",
    "function loadBondHamiltonian(\n",
    "        ::Type{HB},\n",
    "        fn :: AbstractString,\n",
    "        group :: AbstractString = \"bond_hamiltonian\"\n",
    "    ) where {LI,HB<:Union{BondHoppingHamiltonianSimpleNN{LI},BondHoppingHamiltonianSimpleNN}}\n",
    "\n",
    "    # read attribute data\n",
    "    attr_data = h5readattr(fn, group)\n",
    "    # determine D based on this\n",
    "    L = Meta.eval(Meta.parse(attr_data[\"L\"]))\n",
    "    N = attr_data[\"N\"]\n",
    "\n",
    "    # load coupling\n",
    "    coupling  = h5read(fn, group*\"/coupling\")\n",
    "    \n",
    "    # load label\n",
    "    label     = L(h5read(fn, group*\"/label\"))\n",
    "\n",
    "    # return the new bond hamiltonian\n",
    "    return BondHoppingHamiltonianSimpleNN{L}(coupling, label)\n",
    "end"
   ]
  },
  {
   "cell_type": "code",
   "execution_count": 7,
   "metadata": {},
   "outputs": [
    {
     "data": {
      "text/plain": [
       "BondHoppingHamiltonianSimpleNN{String}(3.0, \"test\")"
      ]
     },
     "execution_count": 7,
     "metadata": {},
     "output_type": "execute_result"
    }
   ],
   "source": [
    "hb = BondHoppingHamiltonianSimpleNN{String}(3.0, \"test\")\n",
    "saveBondHamiltonian(hb, \"test.h5\")\n",
    "hb"
   ]
  },
  {
   "cell_type": "code",
   "execution_count": 8,
   "metadata": {},
   "outputs": [
    {
     "data": {
      "text/plain": [
       "BondHoppingHamiltonianSimpleNN{String}(3.0, \"test\")"
      ]
     },
     "execution_count": 8,
     "metadata": {},
     "output_type": "execute_result"
    }
   ],
   "source": [
    "loadBondHamiltonian(\"test.h5\")"
   ]
  },
  {
   "cell_type": "code",
   "execution_count": 9,
   "metadata": {},
   "outputs": [
    {
     "data": {
      "text/plain": [
       "loadBondHamiltonian (generic function with 8 methods)"
      ]
     },
     "execution_count": 9,
     "metadata": {},
     "output_type": "execute_result"
    }
   ],
   "source": [
    "function getBondHamiltonianType(\n",
    "        ::Val{:BondHoppingHamiltonianDict}\n",
    "    )\n",
    "    \n",
    "    # return the type\n",
    "    return BondHoppingHamiltonianDict    \n",
    "end\n",
    "\n",
    "function saveBondHamiltonian(\n",
    "        hb :: HB,\n",
    "        fn :: AbstractString,\n",
    "        group :: AbstractString = \"bond_hamiltonian\"\n",
    "        ;\n",
    "        append :: Bool = false\n",
    "    ) where {L,HB<:BondHoppingHamiltonianDict{L}}\n",
    "    \n",
    "    # determine the mode based on if one wants to append stuff\n",
    "    if append\n",
    "        mode = \"r+\"\n",
    "    else\n",
    "        mode = \"w\"\n",
    "    end\n",
    "\n",
    "    # open the file in mode\n",
    "    h5open(fn, mode) do file\n",
    "        # create the group in which the bonds are saved\n",
    "        group_hb = g_create(file, group)\n",
    "        # save the type identifier\n",
    "        attrs(group_hb)[\"type\"] = \"BondHoppingHamiltonianDict\"\n",
    "        # save the parameters\n",
    "        attrs(group_hb)[\"N\"]    = 1\n",
    "        attrs(group_hb)[\"L\"]    = string(L)\n",
    "        # save the labels\n",
    "        if L <: Number\n",
    "            group_hb[\"labels\"]  = [p[1] for p in hb.couplings]\n",
    "        else\n",
    "            group_hb[\"labels\"]  = [string(p[1]) for p in hb.couplings]\n",
    "        end\n",
    "        # save the Float64 couplings\n",
    "        group_hb[\"couplings\"]   = [p[2] for p in hb.couplings]\n",
    "    end\n",
    "\n",
    "    # return nothing\n",
    "    return nothing\n",
    "end\n",
    "\n",
    "function loadBondHamiltonian(\n",
    "        ::Type{HB},\n",
    "        fn :: AbstractString,\n",
    "        group :: AbstractString = \"bond_hamiltonian\"\n",
    "    ) where {LI,HB<:Union{BondHoppingHamiltonianDict{LI},BondHoppingHamiltonianDict}}\n",
    "\n",
    "    # read attribute data\n",
    "    attr_data = h5readattr(fn, group)\n",
    "    # determine D based on this\n",
    "    L = Meta.eval(Meta.parse(attr_data[\"L\"]))\n",
    "    N = attr_data[\"N\"]\n",
    "\n",
    "    # load coupling\n",
    "    couplings  = h5read(fn, group*\"/couplings\")\n",
    "    \n",
    "    # load label\n",
    "    labels     = L.(h5read(fn, group*\"/labels\"))\n",
    "    \n",
    "    # return the new bond hamiltonian\n",
    "    return BondHoppingHamiltonianDict{L}(Dict([(labels[i], couplings[i]) for i in 1:length(labels)]))\n",
    "end"
   ]
  },
  {
   "cell_type": "code",
   "execution_count": 10,
   "metadata": {},
   "outputs": [
    {
     "data": {
      "text/plain": [
       "BondHoppingHamiltonianDict{String}(Dict(\"x\"=>0.5,\"y\"=>-0.5))"
      ]
     },
     "execution_count": 10,
     "metadata": {},
     "output_type": "execute_result"
    }
   ],
   "source": [
    "hb = BondHoppingHamiltonianDict{String}(Dict(\"x\"=>0.5, \"y\"=>-0.5))\n",
    "saveBondHamiltonian(hb, \"test.h5\")\n",
    "hb"
   ]
  },
  {
   "cell_type": "code",
   "execution_count": 11,
   "metadata": {},
   "outputs": [
    {
     "data": {
      "text/plain": [
       "BondHoppingHamiltonianDict{String}(Dict(\"x\"=>0.5,\"y\"=>-0.5))"
      ]
     },
     "execution_count": 11,
     "metadata": {},
     "output_type": "execute_result"
    }
   ],
   "source": [
    "loadBondHamiltonian(\"test.h5\")"
   ]
  },
  {
   "cell_type": "markdown",
   "metadata": {},
   "source": [
    "# Hamiltonian"
   ]
  },
  {
   "cell_type": "code",
   "execution_count": 27,
   "metadata": {},
   "outputs": [
    {
     "data": {
      "text/plain": [
       "loadHamiltonian (generic function with 4 methods)"
      ]
     },
     "execution_count": 27,
     "metadata": {},
     "output_type": "execute_result"
    }
   ],
   "source": [
    "function saveHamiltonian(\n",
    "        h  :: H,\n",
    "        fn :: AbstractString,\n",
    "        group :: AbstractString = \"hamiltonian\"\n",
    "        ;\n",
    "        append :: Bool = false\n",
    "    ) where {L,UC<:AbstractUnitcell,N,HB<:AbstractBondHamiltonian{L,N}, H<:Hamiltonian{L,UC,HB}}\n",
    "    \n",
    "    # determine the mode based on if one wants to append stuff\n",
    "    if append\n",
    "        mode = \"r+\"\n",
    "    else\n",
    "        mode = \"w\"\n",
    "    end\n",
    "    \n",
    "    # group for bond hamiltonian\n",
    "    group_hb = group*\"/bond_hamiltonian\"\n",
    "    # group for unitcell\n",
    "    group_uc = group*\"/unitcell\"\n",
    "\n",
    "    # open the file in mode\n",
    "    h5open(fn, mode) do file\n",
    "        # create the group in which the bonds are saved\n",
    "        group_h = g_create(file, group)\n",
    "        # save the parameters\n",
    "        attrs(group_h)[\"N\"] = N\n",
    "        attrs(group_h)[\"L\"] = string(L)\n",
    "        # save the groups\n",
    "        attrs(group_h)[\"bond_hamiltonian\"] = group_hb\n",
    "        attrs(group_h)[\"unitcell\"]         = group_uc\n",
    "    end\n",
    "    \n",
    "    # save bond hamiltonian and unitcell in respective groups (append!)\n",
    "    saveBondHamiltonian(bondHamiltonian(h), fn, group_hb, append=true)\n",
    "    saveUnitcell(unitcell(h), fn, group_uc, append=true)\n",
    "\n",
    "    # return nothing\n",
    "    return nothing\n",
    "end\n",
    "\n",
    "function loadHamiltonian(\n",
    "        ::Type{H},\n",
    "        fn :: AbstractString,\n",
    "        group :: AbstractString = \"hamiltonian\"\n",
    "    ) where {L,UC<:AbstractUnitcell,N,HB<:AbstractBondHamiltonian{L,N}, H<:Union{Hamiltonian{L,UC,HB}, Hamiltonian}}\n",
    "\n",
    "    # read attribute data\n",
    "    attr_data = h5readattr(fn, group)\n",
    "    \n",
    "    # load bond hamiltonian\n",
    "    hb = loadBondHamiltonian(fn, attr_data[\"bond_hamiltonian\"])\n",
    "    # load unitcell\n",
    "    uc = loadUnitcell(fn, attr_data[\"unitcell\"])\n",
    "\n",
    "    # return the new hamiltonian\n",
    "    return Hamiltonian(uc, hb)\n",
    "end\n",
    "\n",
    "function loadHamiltonian(\n",
    "        fn :: AbstractString,\n",
    "        group :: AbstractString = \"hamiltonian\"\n",
    "    )\n",
    "    \n",
    "    return loadHamiltonian(Hamiltonian, fn, group)\n",
    "end"
   ]
  },
  {
   "cell_type": "code",
   "execution_count": 38,
   "metadata": {},
   "outputs": [
    {
     "data": {
      "text/plain": [
       "Hamiltonian{String,Unitcell{Site{Symbol,2},Bond{String,2}},BondHoppingHamiltonianSimpleNN{String}}(Unitcell object\n",
       "--> type Unitcell{Site{Symbol,2},Bond{String,2}}\n",
       "--> 2 sites of type Site{Symbol,2}\n",
       "--> 6 bonds of type Bond{String,2}, BondHoppingHamiltonianSimpleNN{String}(2.0, \"l\"))"
      ]
     },
     "execution_count": 38,
     "metadata": {},
     "output_type": "execute_result"
    }
   ],
   "source": [
    "uc = getUnitcellHoneycomb(Symbol, String)\n",
    "hb = BondHoppingHamiltonianSimpleNN{String}(2.0, \"l\")\n",
    "h  = Hamiltonian(uc, hb)\n",
    "saveHamiltonian(h, \"test.h5\")\n",
    "h"
   ]
  },
  {
   "cell_type": "code",
   "execution_count": 39,
   "metadata": {},
   "outputs": [
    {
     "data": {
      "text/plain": [
       "Hamiltonian{String,Unitcell{Site{Symbol,2},Bond{String,2}},BondHoppingHamiltonianSimpleNN{String}}(Unitcell object\n",
       "--> type Unitcell{Site{Symbol,2},Bond{String,2}}\n",
       "--> 2 sites of type Site{Symbol,2}\n",
       "--> 6 bonds of type Bond{String,2}, BondHoppingHamiltonianSimpleNN{String}(2.0, \"l\"))"
      ]
     },
     "execution_count": 39,
     "metadata": {},
     "output_type": "execute_result"
    }
   ],
   "source": [
    "loadHamiltonian(\"test.h5\")"
   ]
  },
  {
   "cell_type": "markdown",
   "metadata": {},
   "source": [
    "# Bandstructure"
   ]
  },
  {
   "cell_type": "code",
   "execution_count": 74,
   "metadata": {},
   "outputs": [
    {
     "data": {
      "text/plain": [
       "loadBandstructure (generic function with 6 methods)"
      ]
     },
     "execution_count": 74,
     "metadata": {},
     "output_type": "execute_result"
    }
   ],
   "source": [
    "function saveBandstructure(\n",
    "        bs :: BS,\n",
    "        fn :: AbstractString,\n",
    "        group :: AbstractString = \"bandstructure\"\n",
    "        ;\n",
    "        append :: Bool = false\n",
    "    ) where {RP, P<:AbstractReciprocalPath{RP}, L,UC,HB,H<:AbstractHamiltonian{L,UC,HB}, BS<:Bandstructure{P,H}}\n",
    "    \n",
    "    # determine the mode based on if one wants to append stuff\n",
    "    if append\n",
    "        mode = \"r+\"\n",
    "    else\n",
    "        mode = \"w\"\n",
    "    end\n",
    "    \n",
    "    # group for hamiltonian\n",
    "    group_h = group*\"/hamiltonian\"\n",
    "    # group for path\n",
    "    group_p = group*\"/path\"\n",
    "    # group for energy bands\n",
    "    group_e = group*\"/bands\"\n",
    "\n",
    "    # open the file in mode\n",
    "    h5open(fn, mode) do file\n",
    "        # create the group in which the bonds are saved\n",
    "        group_bs = g_create(file, group)\n",
    "        # write number of segments\n",
    "        attrs(group_bs)[\"segments\"]    = length(bs.bands)\n",
    "        # save the groups\n",
    "        attrs(group_bs)[\"hamiltonian\"] = group_h\n",
    "        attrs(group_bs)[\"path\"]        = group_p\n",
    "        attrs(group_bs)[\"bands\"]       = group_e\n",
    "    end\n",
    "    \n",
    "    # save hamiltonian\n",
    "    saveHamiltonian(hamiltonian(bs), fn, group_h, append=true)\n",
    "    # save reciprocal path\n",
    "    saveReciprocalPath(path(bs), fn, group_p, append=true)\n",
    "    \n",
    "    # save the individual segments within the bands group\n",
    "    h5open(fn, \"r+\") do file\n",
    "        # create the group in which the bonds are saved\n",
    "        group_bands = g_create(file, group_e)\n",
    "        # save the individual segments\n",
    "        for si in 1:length(bs.bands)\n",
    "            s = bs.bands[si]\n",
    "            # reformat segment and save as matrix\n",
    "            #segmat = [s[j][i] for i in 1:length(s[1]) for j in 1:length(s)]\n",
    "            segmat = zeros(length(s[1]), length(s))\n",
    "            for i in 1:length(s[1])\n",
    "                for j in 1:length(s)\n",
    "                    segmat[i,j] = s[j][i]\n",
    "                end\n",
    "            end\n",
    "            # save\n",
    "            group_bands[\"segment_$(si)\"] = segmat\n",
    "        end\n",
    "    end\n",
    "    \n",
    "    # return nothing\n",
    "    return nothing\n",
    "end\n",
    "\n",
    "function loadBandstructure(\n",
    "        ::Type{BS},\n",
    "        fn :: AbstractString,\n",
    "        group :: AbstractString = \"bandstructure\"\n",
    "    ) where {RP, P<:AbstractReciprocalPath{RP}, L,UC,HB,H<:AbstractHamiltonian{L,UC,HB}, BS<:Union{Bandstructure, Bandstructure{P,H}}}\n",
    "    \n",
    "    # read attribute data\n",
    "    attr_data = h5readattr(fn, group)\n",
    "    \n",
    "    # group for hamiltonian\n",
    "    group_h = attr_data[\"hamiltonian\"]\n",
    "    # group for path\n",
    "    group_p = attr_data[\"path\"]\n",
    "    # group for energy bands\n",
    "    group_e = attr_data[\"bands\"]\n",
    "    \n",
    "    # load number of segments\n",
    "    segments = attr_data[\"segments\"]\n",
    "    \n",
    "    # load hamiltonian\n",
    "    h = loadHamiltonian(fn, group_h)\n",
    "    # load path\n",
    "    p = loadReciprocalPath(fn, group_p)\n",
    "    \n",
    "    # load all energy bands\n",
    "    bds = Vector{Vector{Float64}}[]\n",
    "    # iterate over all expected segments\n",
    "    for s in 1:segments\n",
    "        # load segment as matrix\n",
    "        segmat = h5read(fn, group_e*\"/segment_$(s)\")\n",
    "        # reformat segment and push to list\n",
    "        segment = Vector{Float64}[\n",
    "            Float64[segmat[i,b] for i in 1:size(segmat,1)]\n",
    "            for b in 1:size(segmat,2)\n",
    "        ]\n",
    "        # push to the list\n",
    "        push!(bds, segment)\n",
    "    end\n",
    "\n",
    "    # return the new Bandstructure\n",
    "    bs = getBandstructure(h,p,recalculate=false)\n",
    "    bs.bands = bds\n",
    "    return bs\n",
    "end\n",
    "\n",
    "function loadBandstructure(\n",
    "        fn :: AbstractString,\n",
    "        group :: AbstractString = \"bandstructure\"\n",
    "    )\n",
    "    \n",
    "    return loadBandstructure(Bandstructure, fn, group)\n",
    "end"
   ]
  },
  {
   "cell_type": "code",
   "execution_count": 86,
   "metadata": {},
   "outputs": [
    {
     "data": {
      "image/png": "[encoded data removed]",
      "text/plain": [
       "PyPlot.Figure(PyObject <matplotlib.figure.Figure object at 0x7faba147c7b8>)"
      ]
     },
     "metadata": {},
     "output_type": "display_data"
    }
   ],
   "source": [
    "uc = getUnitcellHoneycomb()\n",
    "bs = getBandstructure(uc, :Gamma, :K, :M, :Gamma, :Mp);\n",
    "saveBandstructure(bs, \"test.h5\")\n",
    "plotBandstructure(bs);"
   ]
  },
  {
   "cell_type": "code",
   "execution_count": 87,
   "metadata": {},
   "outputs": [
    {
     "data": {
      "image/png": "[encoded data removed]",
      "text/plain": [
       "PyPlot.Figure(PyObject <matplotlib.figure.Figure object at 0x7fab9c868208>)"
      ]
     },
     "metadata": {},
     "output_type": "display_data"
    }
   ],
   "source": [
    "bsp = loadBandstructure(\"test.h5\")\n",
    "plotBandstructure(bsp);"
   ]
  },
  {
   "cell_type": "code",
   "execution_count": null,
   "metadata": {},
   "outputs": [],
   "source": []
  }
 ],
 "metadata": {
  "@webio": {
   "lastCommId": null,
   "lastKernelId": null
  },
  "kernelspec": {
   "display_name": "Julia 1.0.0",
   "language": "julia",
   "name": "julia-1.0"
  },
  "language_info": {
   "file_extension": ".jl",
   "mimetype": "application/julia",
   "name": "julia",
   "version": "1.0.0"
  }
 },
 "nbformat": 4,
 "nbformat_minor": 2
}
